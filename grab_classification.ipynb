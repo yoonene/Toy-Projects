{
 "cells": [
  {
   "cell_type": "markdown",
   "metadata": {},
   "source": [
    "# R-T Grab Classification"
   ]
  },
  {
   "cell_type": "code",
   "execution_count": null,
   "metadata": {},
   "outputs": [],
   "source": [
    "import tensorflow\n",
    "import tensorflow.keras\n",
    "import os\n",
    "import sys\n",
    "import matplotlib.pyplot as plt\n",
    "import numpy as np\n",
    "import cv2\n",
    "import urllib\n",
    "import numpy as np\n",
    "# sample execution (requires torchvision)\n",
    "from PIL import Image\n",
    "# from torchvision import transforms\n",
    "from tensorflow.keras.models import Model, load_model"
   ]
  },
  {
   "cell_type": "code",
   "execution_count": null,
   "metadata": {},
   "outputs": [],
   "source": [
    "import shutil\n",
    "import time"
   ]
  },
  {
   "cell_type": "markdown",
   "metadata": {},
   "source": [
    "## 데이터 준비\n",
    "* 실시간으로 데이터를 입력 받아 프레임으로 쪼개어 저장"
   ]
  },
  {
   "cell_type": "code",
   "execution_count": 4,
   "metadata": {},
   "outputs": [
    {
     "name": "stdout",
     "output_type": "stream",
     "text": [
      "Video source detected\n",
      "width: 640.0, height : 480.0\n"
     ]
    }
   ],
   "source": [
    "cap = cv2.VideoCapture(1, cv2.CAP_DSHOW)\n",
    "is_opened = cap.isOpened()\n",
    "\n",
    "if cap.isOpened():\n",
    "    ret, frame = cap.read()\n",
    "    if ret:\n",
    "#         frame = frame[100:1400, :]\n",
    "        cv2.imshow('camera', frame)\n",
    "    print('Video source detected')\n",
    "    print('width: {}, height : {}'.format(cap.get(3), cap.get(4)))\n",
    "else:\n",
    "    print('NO video source detected. shutdown')\n",
    "    exit()"
   ]
  },
  {
   "cell_type": "code",
   "execution_count": 5,
   "metadata": {
    "tags": []
   },
   "outputs": [
    {
     "name": "stdout",
     "output_type": "stream",
     "text": [
      "\n",
      "\n",
      "\n",
      "\n",
      "First we should know how your muscle look like\n",
      "We will record your muscle for 4 seconds each\n",
      "\n",
      "\n"
     ]
    },
    {
     "name": "stdin",
     "output_type": "stream",
     "text": [
      "Press Any key to start recording your palm \n"
     ]
    },
    {
     "name": "stdout",
     "output_type": "stream",
     "text": [
      "5 seconds remain\n",
      "4 seconds remain\n",
      "3 seconds remain\n",
      "2 seconds remain\n",
      "1 seconds remain\n"
     ]
    },
    {
     "name": "stdin",
     "output_type": "stream",
     "text": [
      "Press Any key to start recording your fist \n"
     ]
    },
    {
     "name": "stdout",
     "output_type": "stream",
     "text": [
      "2 seconds remain\n",
      "1 seconds remain\n",
      "0 seconds remain\n"
     ]
    }
   ],
   "source": [
    "record_duration = 4\n",
    "print('')\n",
    "print('')\n",
    "print('')\n",
    "print('')\n",
    "\n",
    "print('First we should know how your muscle look like')\n",
    "print('We will record your muscle for {} seconds each'.format(str(record_duration)))\n",
    "print('')\n",
    "print('')\n",
    "\n",
    "input('Press Any key to start recording your palm')\n",
    "diff = record_duration -1 \n",
    "t_end = time.time() + record_duration\n",
    "rest = []\n",
    "while t_end > time.time():\n",
    "    delta = t_end - time.time()\n",
    "    if int(delta) != diff:\n",
    "        diff = int(delta)\n",
    "        print(\"{} seconds remain\".format(str(diff + 1)))\n",
    "    ret, fram = cap.read()\n",
    "    if ret:\n",
    "        fram = cv2.cvtColor(fram, cv2.COLOR_BGR2GRAY)\n",
    "#         fram = fram[100:1400, :]\n",
    "        #cv2.imshow('cam 0', fram)\n",
    "        rest.append(cv2.resize(fram, (128,128)))\n",
    "    else:\n",
    "        print(\"Lost video source. Shutdown\")\n",
    "        exit()\n",
    "\n",
    "input('Press Any key to start recording your fist')\n",
    "diff = record_duration - 1\n",
    "t_end = time.time() + record_duration\n",
    "thumb = []\n",
    "while t_end > time.time():\n",
    "    delta = t_end - time.time()\n",
    "    if int(delta) != diff:\n",
    "        diff = int(delta)\n",
    "        print(\"{} seconds remain\".format(str(diff)))\n",
    "    ret, fram = cap.read()\n",
    "    if ret:\n",
    "        fram = cv2.cvtColor(fram, cv2.COLOR_BGR2GRAY)\n",
    "#         fram = fram[100:1400, :]\n",
    "        #cv2.imshow('cam 0', fram)\n",
    "        thumb.append(cv2.resize(fram, (128, 128)))\n",
    "    else:\n",
    "        print(\"Lost video source. Shutdown\")\n",
    "        exit()"
   ]
  },
  {
   "cell_type": "code",
   "execution_count": 6,
   "metadata": {},
   "outputs": [
    {
     "name": "stdout",
     "output_type": "stream",
     "text": [
      "훈련용 새끼 이미지 개수: 122\n",
      "훈련용 하이 이미지 개수: 122\n"
     ]
    }
   ],
   "source": [
    "# print('훈련용 엄지 이미지 개수:', len(thumb))\n",
    "# print('훈련용 검지 이미지 개수:', len(pnt))\n",
    "# print('훈련용 중지 이미지 개수:', len(mid))\n",
    "# print('훈련용 약지 이미지 개수:', len(ring))\n",
    "print('훈련용 새끼 이미지 개수:', len(grab))\n",
    "print('훈련용 하이 이미지 개수:', len(rest))"
   ]
  },
  {
   "cell_type": "code",
   "execution_count": 7,
   "metadata": {},
   "outputs": [],
   "source": [
    "x_data = rest + grab\n",
    "y_data = [0 for i in range(len(rest))] + [1 for i in range(len(grab))]"
   ]
  },
  {
   "cell_type": "code",
   "execution_count": 8,
   "metadata": {},
   "outputs": [
    {
     "name": "stdout",
     "output_type": "stream",
     "text": [
      "244 244\n"
     ]
    }
   ],
   "source": [
    "train = {'img': [], 'label': []}\n",
    "for i in x_data:\n",
    "    train['img'].append(i)\n",
    "for j in y_data:\n",
    "    train['label'].append(j)\n",
    "print(len(train['img']), len(train['label']))"
   ]
  },
  {
   "cell_type": "markdown",
   "metadata": {},
   "source": [
    "## 기본 중 기본 초간단 CNN 모델\n",
    "* 우리는 데이터가 없어요. 어차피 과적합. 개인을 위한 분류일 뿐"
   ]
  },
  {
   "cell_type": "code",
   "execution_count": 1,
   "metadata": {},
   "outputs": [],
   "source": [
    "from tensorflow.keras import layers\n",
    "from tensorflow.keras import models\n",
    "\n",
    "model = models.Sequential()\n",
    "# model.add(layers.Conv2D(16, (3, 3), activation='relu', input_shape=(128, 128, 1)))\n",
    "# model.add(layers.MaxPooling2D((2,2)))\n",
    "model.add(layers.Conv2D(32, (3, 3), activation='relu', input_shape=(128, 128, 1)))\n",
    "model.add(layers.MaxPooling2D((2, 2)))\n",
    "model.add(layers.Conv2D(64, (3, 3), activation='relu'))\n",
    "model.add(layers.MaxPooling2D((2, 2)))\n",
    "model.add(layers.Conv2D(128, (3, 3), activation='relu'))\n",
    "model.add(layers.MaxPooling2D((2, 2)))\n",
    "model.add(layers.Conv2D(256, (3, 3), activation='relu'))\n",
    "model.add(layers.MaxPooling2D((2, 2)))\n",
    "model.add(layers.Flatten())\n",
    "model.add(layers.Dense(512, activation='relu'))\n",
    "model.add(layers.Dense(6, activation='softmax'))"
   ]
  },
  {
   "cell_type": "code",
   "execution_count": 9,
   "metadata": {},
   "outputs": [
    {
     "name": "stdout",
     "output_type": "stream",
     "text": [
      "Model: \"sequential\"\n",
      "_________________________________________________________________\n",
      "Layer (type)                 Output Shape              Param #   \n",
      "=================================================================\n",
      "conv2d (Conv2D)              (None, 126, 126, 32)      320       \n",
      "_________________________________________________________________\n",
      "max_pooling2d (MaxPooling2D) (None, 63, 63, 32)        0         \n",
      "_________________________________________________________________\n",
      "conv2d_1 (Conv2D)            (None, 61, 61, 64)        18496     \n",
      "_________________________________________________________________\n",
      "max_pooling2d_1 (MaxPooling2 (None, 30, 30, 64)        0         \n",
      "_________________________________________________________________\n",
      "conv2d_2 (Conv2D)            (None, 28, 28, 128)       73856     \n",
      "_________________________________________________________________\n",
      "max_pooling2d_2 (MaxPooling2 (None, 14, 14, 128)       0         \n",
      "_________________________________________________________________\n",
      "conv2d_3 (Conv2D)            (None, 12, 12, 256)       295168    \n",
      "_________________________________________________________________\n",
      "max_pooling2d_3 (MaxPooling2 (None, 6, 6, 256)         0         \n",
      "_________________________________________________________________\n",
      "flatten (Flatten)            (None, 9216)              0         \n",
      "_________________________________________________________________\n",
      "dense (Dense)                (None, 512)               4719104   \n",
      "_________________________________________________________________\n",
      "dense_1 (Dense)              (None, 6)                 3078      \n",
      "=================================================================\n",
      "Total params: 5,110,022\n",
      "Trainable params: 5,110,022\n",
      "Non-trainable params: 0\n",
      "_________________________________________________________________\n"
     ]
    }
   ],
   "source": [
    "model.summary()"
   ]
  },
  {
   "cell_type": "code",
   "execution_count": 10,
   "metadata": {},
   "outputs": [
    {
     "name": "stdout",
     "output_type": "stream",
     "text": [
      "(128, 128, 1)\n"
     ]
    }
   ],
   "source": [
    "for i in range(len(train['img'])):\n",
    "    train['img'][i] = np.expand_dims(train['img'][i], axis=2)\n",
    "#     train['img'][i].reshape(256, 256, 3)\n",
    "\n",
    "print(train['img'][0].shape)"
   ]
  },
  {
   "cell_type": "code",
   "execution_count": 13,
   "metadata": {},
   "outputs": [],
   "source": [
    "from tensorflow.keras import optimizers\n",
    "\n",
    "model.compile(loss='sparse_categorical_crossentropy',\n",
    "              optimizer='adam',\n",
    "              metrics=['accuracy'])"
   ]
  },
  {
   "cell_type": "code",
   "execution_count": 13,
   "metadata": {},
   "outputs": [
    {
     "data": {
      "text/plain": [
       "(128, 128)"
      ]
     },
     "execution_count": 13,
     "metadata": {},
     "output_type": "execute_result"
    }
   ],
   "source": [
    "x_data[0].shape"
   ]
  },
  {
   "cell_type": "code",
   "execution_count": 14,
   "metadata": {},
   "outputs": [
    {
     "name": "stdout",
     "output_type": "stream",
     "text": [
      "Epoch 1/10\n",
      "8/8 [==============================] - 1s 82ms/step - loss: 0.1065 - accuracy: 0.9616\n",
      "Epoch 2/10\n",
      "8/8 [==============================] - 1s 81ms/step - loss: 0.0310 - accuracy: 0.9926\n",
      "Epoch 3/10\n",
      "8/8 [==============================] - 1s 82ms/step - loss: 0.0145 - accuracy: 1.0000\n",
      "Epoch 4/10\n",
      "8/8 [==============================] - 1s 81ms/step - loss: 0.0114 - accuracy: 0.9945\n",
      "Epoch 5/10\n",
      "8/8 [==============================] - 1s 82ms/step - loss: 0.0277 - accuracy: 0.9973\n",
      "Epoch 6/10\n",
      "8/8 [==============================] - 1s 82ms/step - loss: 0.0061 - accuracy: 0.9986\n",
      "Epoch 7/10\n",
      "8/8 [==============================] - 1s 82ms/step - loss: 0.0155 - accuracy: 0.9936\n",
      "Epoch 8/10\n",
      "8/8 [==============================] - 1s 82ms/step - loss: 7.3371e-04 - accuracy: 1.0000\n",
      "Epoch 9/10\n",
      "8/8 [==============================] - 1s 82ms/step - loss: 0.0033 - accuracy: 1.0000\n",
      "Epoch 10/10\n",
      "8/8 [==============================] - 1s 82ms/step - loss: 5.9762e-04 - accuracy: 1.0000\n"
     ]
    }
   ],
   "source": [
    "history = model.fit(np.array(train['img']), np.array(train['label']), epochs=10)"
   ]
  },
  {
   "cell_type": "code",
   "execution_count": 13,
   "metadata": {},
   "outputs": [
    {
     "data": {
      "image/png": "[encoded data removed]",
      "text/plain": [
       "<Figure size 432x288 with 1 Axes>"
      ]
     },
     "metadata": {
      "needs_background": "light"
     },
     "output_type": "display_data"
    }
   ],
   "source": [
    "plt.plot(history.history['loss'], label = 'training_loss')\n",
    "plt.legend()\n",
    "plt.grid(True)"
   ]
  },
  {
   "cell_type": "code",
   "execution_count": 14,
   "metadata": {},
   "outputs": [
    {
     "data": {
      "image/png": "[encoded data removed]",
      "text/plain": [
       "<Figure size 432x288 with 1 Axes>"
      ]
     },
     "metadata": {
      "needs_background": "light"
     },
     "output_type": "display_data"
    }
   ],
   "source": [
    "plt.plot(history.history['accuracy'], label = 'training_acc')\n",
    "plt.legend()\n",
    "plt.grid(True)"
   ]
  },
  {
   "cell_type": "code",
   "execution_count": 15,
   "metadata": {},
   "outputs": [],
   "source": [
    "# 모델 저장\n",
    "model.save('grab_classification.h5')"
   ]
  },
  {
   "cell_type": "code",
   "execution_count": 3,
   "metadata": {},
   "outputs": [],
   "source": [
    "model = load_model('classification.h5')"
   ]
  },
  {
   "cell_type": "markdown",
   "metadata": {},
   "source": [
    "## 실시간 분류\n",
    "* 실시간으로 촬영하며 현재 손동작 상태에 대한 output을 초음파 영상 화면 위에 출력"
   ]
  },
  {
   "cell_type": "code",
   "execution_count": 5,
   "metadata": {},
   "outputs": [],
   "source": [
    "cap = cv2.VideoCapture(1)\n",
    "\n",
    "if cap.isOpened():                      # 캡쳐 객체 연결 확인\n",
    "    while cv2.waitKey(33) != ord('q'):\n",
    "        ret, fram = cap.read()\n",
    "        if ret:\n",
    "            fram = cv2.cvtColor(fram, cv2.COLOR_BGR2GRAY)\n",
    "            original = fram\n",
    "            img = cv2.resize(fram, (128,128))\n",
    "\n",
    "            img_list = {'img': []}\n",
    "            img_list['img'].append(img)\n",
    "            img_list['img'] = np.expand_dims(img_list['img'], axis=3)\n",
    "            prediction = model.predict(np.array(img_list['img']))\n",
    "#             preds_classes = model.predict_classes(np.array(img_list['img']))\n",
    "            preds_classes = np.argmax(prediction, axis=-1)\n",
    "\n",
    "#             _, output_index = torch.max(output,0)\n",
    "            if (preds_classes == 0):\n",
    "                output_str = \"rest : 0\"\n",
    "            if (preds_classes == 1):\n",
    "                output_str = \"grab : 1\"\n",
    "\n",
    "            cv2.putText(original, output_str, (250, 450), cv2.FONT_HERSHEY_COMPLEX, 1, (255, 255, 255), 2)\n",
    "            cv2.imshow('output', original)\n",
    "\n",
    "#             cv2.putText(original, output_str, \n",
    "#                 bottomLeftCornerOfText, \n",
    "#                 font, \n",
    "#                 fontScale,\n",
    "#                 fontColor)\n",
    "            if cv2.waitKey(10) == ord('q'):\n",
    "                break\n",
    "            \n",
    "        else:\n",
    "            break\n",
    "cv2.destroyAllWindows()"
   ]
  },
  {
   "cell_type": "code",
   "execution_count": null,
   "metadata": {},
   "outputs": [],
   "source": []
  }
 ],
 "metadata": {
  "kernelspec": {
   "display_name": "Python 3",
   "language": "python",
   "name": "python3"
  },
  "language_info": {
   "codemirror_mode": {
    "name": "ipython",
    "version": 3
   },
   "file_extension": ".py",
   "mimetype": "text/x-python",
   "name": "python",
   "nbconvert_exporter": "python",
   "pygments_lexer": "ipython3",
   "version": "3.8.3"
  }
 },
 "nbformat": 4,
 "nbformat_minor": 5
}
